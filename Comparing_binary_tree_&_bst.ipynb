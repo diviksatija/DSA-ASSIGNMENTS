{
  "nbformat": 4,
  "nbformat_minor": 0,
  "metadata": {
    "colab": {
      "provenance": [],
      "authorship_tag": "ABX9TyM9MWO+1HABSbWonaJXzHcA",
      "include_colab_link": true
    },
    "kernelspec": {
      "name": "python3",
      "display_name": "Python 3"
    },
    "language_info": {
      "name": "python"
    }
  },
  "cells": [
    {
      "cell_type": "markdown",
      "metadata": {
        "id": "view-in-github",
        "colab_type": "text"
      },
      "source": [
        "<a href=\"https://colab.research.google.com/github/diviksatija/DSA-ASSIGNMENTS/blob/COMPARING-BINARY-SEARCH-%26-BST/Comparing_binary_tree_%26_bst.ipynb\" target=\"_parent\"><img src=\"https://colab.research.google.com/assets/colab-badge.svg\" alt=\"Open In Colab\"/></a>"
      ]
    },
    {
      "cell_type": "code",
      "execution_count": 1,
      "metadata": {
        "colab": {
          "base_uri": "https://localhost:8080/"
        },
        "id": "q8xhn65pjEMz",
        "outputId": "f267e40b-910c-4a97-924f-4b0c1001946e"
      },
      "outputs": [
        {
          "output_type": "stream",
          "name": "stdout",
          "text": [
            "4\n",
            "2\n",
            "1\n",
            "3\n",
            "6\n",
            "5\n",
            "7\n",
            "PreOrder Traversal of constructed BST None\n"
          ]
        }
      ],
      "source": [
        "# Binary tree node\n",
        "class Node:\n",
        "\tdef __init__(self, d):\n",
        "\t\tself.data = d\n",
        "\t\tself.left = None\n",
        "\t\tself.right = None\n",
        "\n",
        "# Function to convert sorted array to a balanced BST\n",
        "# Input : sorted array\n",
        "# Output: root node of balanced BST\n",
        "def BST(arr):\n",
        "\t\n",
        "\tif not arr:\n",
        "\t\treturn None\n",
        "\n",
        "\t#Find middle index\n",
        "\tmid = (len(arr)) // 2\n",
        "\t\n",
        "\t#Make the middle element the root\n",
        "\troot = Node(arr[mid])\n",
        "\t\n",
        "\t#Left subtree of root has all alues \n",
        "\troot.left = BST(arr[:mid])\n",
        "\t\n",
        "\t# Right subtree of root has all values >arr[mid]\n",
        "\troot.right = BST(arr[mid+1:])\n",
        "\treturn root\n",
        "\n",
        "# A utility function to print the preorder traversal of the BST\n",
        "def preOrder(node):\n",
        "\tif not node:\n",
        "\t\treturn\n",
        "\t\n",
        "\tprint (node.data)\n",
        "\tpreOrder(node.left)\n",
        "\tpreOrder(node.right)\n",
        "\n",
        "# Driver program to test above function\n",
        "\"\"\"\n",
        "Constructed balanced BST is\n",
        "     4\n",
        "   /   \\\n",
        "  2     6\n",
        " / \\   / \\\n",
        "1   3 5   7\n",
        "\"\"\"\n",
        "\n",
        "arr = [1, 2, 3, 4, 5, 6, 7]\n",
        "root = BST(arr)\n",
        "b=preOrder(root)\n",
        "print(\"PreOrder Traversal of constructed BST\",b)"
      ]
    },
    {
      "cell_type": "code",
      "source": [
        "#DELETING A NODE IN BST\n",
        "#Optimized delete in BST.\n",
        "\n",
        "class Node:\n",
        "\n",
        "\t#Constructor to create a new node\n",
        "\tdef __init__(self, key):\n",
        "\t\tself.key = key\n",
        "\t\tself.left = None\n",
        "\t\tself.right = None\n",
        "\n",
        "#A utility function to do inorder traversal of BST\n",
        "def inorder(root):\n",
        "\tif root is not None:\n",
        "\t\tinorder(root.left)\n",
        "\t\tprint(root.key, end=\" \")\n",
        "\t\tinorder(root.right)\n",
        "\n",
        "# A utility function to insert a new node with given key in BST\n",
        "def insert(node, key):\n",
        "\n",
        "\t#If the tree is empty, return a new node\n",
        "\tif node is None:\n",
        "\t\treturn Node(key)\n",
        "\n",
        "\t#Otherwise recur down the tree\n",
        "\tif key < node.key:\n",
        "\t\tnode.left = insert(node.left, key)\n",
        "\telse:\n",
        "\t\tnode.right = insert(node.right, key)\n",
        "\n",
        "\t#Return the (unchanged) node pointer\n",
        "\treturn node\n",
        "\n",
        "\n",
        "# Given a binary search tree and a key, this function delete the key and returns the new root\n",
        "def deleteNode(root, key):\n",
        "\n",
        "\t#Base Case\n",
        "\tif root is None:\n",
        "\t\treturn root\n",
        "\n",
        "\t#Recursive calls for ancestors of node to be deleted\n",
        "\tif key < root.key:\n",
        "\t\troot.left = deleteNode(root.left, key)\n",
        "\t\treturn root\n",
        "\n",
        "\telif(key > root.key):\n",
        "\t\troot.right = deleteNode(root.right, key)\n",
        "\t\treturn root\n",
        "\n",
        "\t#We reach here when root is the node to be deleted.\n",
        "\t\n",
        "\t#If root node is a leaf node\n",
        "\t\n",
        "\tif root.left is None and root.right is None:\n",
        "\t\treturn None\n",
        "\n",
        "\t# If one of the children is empty\n",
        "\tif root.left is None:\n",
        "\t\ttemp = root.right\n",
        "\t\troot = None\n",
        "\t\treturn temp\n",
        "\telif root.right is None:\n",
        "\t\ttemp = root.left\n",
        "\t\troot = None\n",
        "\t\treturn temp\n",
        "\n",
        "\t#If both children exist\n",
        "\tsuccParent = root\n",
        "\t#Find Successor\n",
        "\tsucc = root.right\n",
        "\n",
        "\twhile succ.left != None:\n",
        "\t\tsuccParent = succ\n",
        "\t\tsucc = succ.left\n",
        "\t#Delete successor. Since successor is always left child of its parent we can safely make successor's right right child as left of its parent. If there is no succ, then assign succ->right to succParent->right\n",
        "\tif succParent != root:\n",
        "\t\tsuccParent.left = succ.right\n",
        "\telse:\n",
        "\t\tsuccParent.right = succ.right\n",
        "\n",
        "\t#Copy Successor Data to root\n",
        "\n",
        "\troot.key = succ.key\n",
        "\n",
        "\treturn root\n",
        "\n",
        "\n",
        "\"We will see the above balanced tree\"\n",
        "\"\"\" Let us create following BST\n",
        "\t\t\t  4\n",
        "\t\t  /   \\\n",
        "\t\t 2     6\n",
        "\t\t/ \\   / \\\n",
        "\t 1   3 5   7 \"\"\"\n",
        "\n",
        "root = None\n",
        "root = insert(root, 4)\n",
        "root = insert(root, 2)\n",
        "root = insert(root, 1)\n",
        "root = insert(root, 3)\n",
        "root = insert(root, 6)\n",
        "root = insert(root, 5)\n",
        "root = insert(root, 7)\n",
        "\n",
        "print(\"Inorder traversal of the given tree\")\n",
        "inorder(root)\n",
        "\n",
        "print(\"\\nDelete 1\")\n",
        "root = deleteNode(root, 1)\n",
        "print(\"Inorder traversal of the modified tree\")\n",
        "inorder(root)\n"
      ],
      "metadata": {
        "colab": {
          "base_uri": "https://localhost:8080/"
        },
        "id": "4e2GrCu7jVSW",
        "outputId": "8be7254e-6cdc-4b81-f5c9-0e26312200ea"
      },
      "execution_count": 6,
      "outputs": [
        {
          "output_type": "stream",
          "name": "stdout",
          "text": [
            "Inorder traversal of the given tree\n",
            "1 2 3 4 5 6 7 \n",
            "Delete 1\n",
            "Inorder traversal of the modified tree\n",
            "2 3 4 5 6 7 "
          ]
        }
      ]
    },
    {
      "cell_type": "code",
      "source": [
        "#Remove a given element from an array. This function removes an element x from arr[] and returns new size after removal. Returned size is n-1 when element is present. Otherwise 0 is returned to indicate failure.\n",
        "def deleteElement(arr,n,x):\n",
        "\n",
        "#If x is last element, nothing to do\n",
        "\tif arr[n-1]==x:\n",
        "\t\treturn n-1\n",
        "#Start from rightmost element and keep moving elements one position ahead.\n",
        "\n",
        "\tprev = arr[n-1]\n",
        "\tfor i in range(n-2,1,-1):\n",
        "\t\tif arr[i]!=x:\n",
        "\t\t\tcurr = arr[i]\n",
        "\t\t\tarr[i] = prev\n",
        "\t\t\tprev = curr\n",
        "\n",
        "#If element was not found\n",
        "\tif i<0:\n",
        "\t\treturn 0\n",
        "\n",
        "#Else move the next element in place of x\n",
        "\tarr[i] = prev\n",
        "\treturn n-1\n",
        "\n",
        "arr = [1,2,3,4,5,6,7]\n",
        "n = len(arr)\n",
        "x = 6\n",
        "n = deleteElement(arr,n,x)\n",
        "print(\"Modified array is\")\n",
        "for i in range(n):\n",
        "\tprint(arr[i],end=\" \")"
      ],
      "metadata": {
        "colab": {
          "base_uri": "https://localhost:8080/"
        },
        "id": "sdvrYshEj8vl",
        "outputId": "4e5df60c-b505-40e9-c362-0cd6caf72927"
      },
      "execution_count": 4,
      "outputs": [
        {
          "output_type": "stream",
          "name": "stdout",
          "text": [
            "Modified array is\n",
            "1 2 3 5 7 6 "
          ]
        }
      ]
    }
  ]
}